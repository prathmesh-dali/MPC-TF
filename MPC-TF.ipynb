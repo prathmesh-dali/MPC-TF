{
 "cells": [
  {
   "cell_type": "code",
   "execution_count": 1,
   "metadata": {},
   "outputs": [],
   "source": [
    "import logging\n",
    "from websocket_server import WebsocketServer\n",
    "import json\n",
    "\n",
    "def new_client(client, server):\n",
    "\tprint(\"connected\")\n",
    "    \n",
    "def client_disconnected(client, server):\n",
    "    print(\"disconnected\")\n",
    "    exit(1)\n",
    "    \n",
    "def _check_mode(msg):\n",
    "    return  \"Auto\" if msg and msg[:2] == '42' else \"Manual\"\n",
    "\n",
    "def _parse_telemetry(msg):\n",
    "    msg_json = msg[2:]\n",
    "    parsed = json.loads(msg_json)\n",
    "    \n",
    "    msg_type = parsed[0]\n",
    "    assert msg_type == 'telemetry' , \"Invalid message type {}\".format(msg_type) \n",
    "    \n",
    "    # Telemetry values\n",
    "    values = parsed[1]\n",
    "    \n",
    "    return values\n"
   ]
  },
  {
   "cell_type": "code",
   "execution_count": 2,
   "metadata": {},
   "outputs": [],
   "source": [
    "def msg_received(client, server, message):\n",
    "    if _check_mode(message) is 'Auto':\n",
    "        telemetry  = _parse_telemetry(message)\n",
    "            \n",
    "        psi = telemetry['psi']\n",
    "        ptsx = telemetry['ptsx']\n",
    "        ptsy = telemetry['ptsy']\n",
    "        speed = telemetry['speed']\n",
    "        steering = telemetry['steering_angle']\n",
    "        throttle = telemetry['throttle']\n",
    "        x = telemetry['x']\n",
    "        y = telemetry['y']\n",
    "        \n",
    "        \n",
    "        #Implement your model predictive control here.\n",
    "    else:\n",
    "        print(\"Falling back to manual mode\")"
   ]
  },
  {
   "cell_type": "code",
   "execution_count": null,
   "metadata": {
    "scrolled": true
   },
   "outputs": [
    {
     "name": "stderr",
     "output_type": "stream",
     "text": [
      "INFO:websocket_server.websocket_server:Listening on port 4567 for clients..\n"
     ]
    },
    {
     "name": "stdout",
     "output_type": "stream",
     "text": [
      "connected\n",
      "------------------------------------------\n",
      "42[\"telemetry\",{\"ptsx\":[-32.16173,-43.49173,-61.09,-78.29172,-93.05002,-107.7717],\"ptsy\":[113.361,105.941,92.88499,78.73102,65.34102,50.57938],\"psi_unity\":4.120315,\"psi\":3.733667,\"x\":-40.62008,\"y\":108.7301,\"steering_angle\":0,\"throttle\":0,\"speed\":5.422823E-06}]\n",
      "------------------------------------------\n",
      "xxxxxxxxxxxxxxxxxxxxxxxxxxxxxxxxxxxxxxxxxxxxx\n",
      "-40.62008\n",
      "------------------------------------------\n",
      "2\n",
      "------------------------------------------\n",
      "Falling back to manual mode\n"
     ]
    }
   ],
   "source": [
    "server = WebsocketServer(4567, host='127.0.0.1', loglevel=logging.INFO)\n",
    "server.set_fn_new_client(new_client)\n",
    "server.set_fn_message_received(msg_received)\n",
    "server.set_fn_client_left(client_disconnected)\n",
    "server.run_forever()"
   ]
  },
  {
   "cell_type": "code",
   "execution_count": 2,
   "metadata": {},
   "outputs": [],
   "source": [
    "import tensorflow as tf"
   ]
  },
  {
   "cell_type": "code",
   "execution_count": 16,
   "metadata": {},
   "outputs": [],
   "source": [
    "a = tf.placeholder(tf.float32, shape = [3], name = 'coeffs')\n",
    "\n",
    "x = tf.Variable(tf.zeros([1]), name = 'x')\n",
    "\n",
    "cost = a[2] + a[1]*x + a[0]*x**2\n"
   ]
  },
  {
   "cell_type": "code",
   "execution_count": 17,
   "metadata": {},
   "outputs": [],
   "source": [
    "opt = tf.train.GradientDescentOptimizer(0.01)"
   ]
  },
  {
   "cell_type": "code",
   "execution_count": 20,
   "metadata": {},
   "outputs": [
    {
     "name": "stdout",
     "output_type": "stream",
     "text": [
      "[-0.05] [5.75]\n",
      "[-0.09899999] [5.5075]\n",
      "[-0.14701998] [5.514801]\n",
      "[-0.19407958] [5.286515]\n",
      "[-0.24019799] [5.067269]\n",
      "[-0.285394] [4.856705]\n",
      "[-0.32968614] [4.6544795]\n",
      "[-0.3730924] [4.4602623]\n",
      "[-0.41563058] [4.2737355]\n",
      "[-0.45731798] [4.094596]\n",
      "[-0.49817163] [3.7182817]\n",
      "[-0.5382082] [3.557134]\n",
      "[-0.577444] [3.598627]\n",
      "[-0.61589515] [3.4462214]\n",
      "[-0.65357727] [3.299851]\n",
      "[-0.69050574] [3.159277]\n",
      "[-0.72669566] [3.0242696]\n",
      "[-0.76216173] [2.717278]\n",
      "[-0.7969185] [2.596298]\n",
      "[-0.8309801] [2.4801786]\n",
      "[-0.8643605] [2.5356274]\n",
      "[-0.89707327] [2.4253163]\n",
      "[-0.9291318] [2.319374]\n",
      "[-0.9605492] [2.217627]\n",
      "[-0.9913382] [1.965964]\n",
      "[-1.0215114] [2.0260606]\n",
      "[-1.0510812] [1.9359283]\n",
      "[-1.0800595] [1.8493657]\n",
      "[-1.1084583] [1.766231]\n",
      "[-1.1362891] [1.6863881]\n",
      "[-1.1635634] [1.4733362]\n",
      "[-1.1902921] [1.4024189]\n",
      "[-1.2164863] [1.4653345]\n",
      "[-1.2421566] [1.3974072]\n",
      "[-1.2673135] [1.3321701]\n",
      "[-1.2919672] [1.2695161]\n",
      "[-1.3161278] [1.2093431]\n",
      "[-1.3398052] [1.1515534]\n",
      "[-1.3630091] [1.0960519]\n",
      "[-1.3857489] [1.0427485]\n",
      "[-1.4080338] [0.9915556]\n",
      "[-1.4298732] [0.9423901]\n",
      "[-1.4512757] [0.89517117]\n",
      "[-1.4722502] [0.8498225]\n",
      "[-1.4928052] [0.8062699]\n",
      "[-1.5129491] [0.764441]\n",
      "[-1.5326902] [0.7242696]\n",
      "[-1.5520364] [0.6856885]\n",
      "[-1.5709957] [0.5538385]\n",
      "[-1.5895758] [0.6130488]\n",
      "[-1.6077843] [0.5788722]\n",
      "[-1.6256286] [0.5460489]\n",
      "[-1.643116] [0.51452494]\n",
      "[-1.6602536] [0.4842503]\n",
      "[-1.6770486] [0.4551735]\n",
      "[-1.6935076] [0.42724943]\n",
      "[-1.7096374] [0.40042996]\n",
      "[-1.7254447] [0.29563713]\n",
      "[-1.7409358] [0.27247977]\n",
      "[-1.7561171] [0.25027227]\n",
      "[-1.7709948] [0.22897339]\n",
      "[-1.7855749] [0.28144884]\n",
      "[-1.7998635] [0.26040316]\n",
      "[-1.8138661] [0.24019122]\n",
      "[-1.8275888] [0.15216613]\n",
      "[-1.841037] [0.20213652]\n",
      "[-1.8542163] [0.18423247]\n",
      "[-1.8671321] [0.1670363]\n",
      "[-1.8797895] [0.15052223]\n",
      "[-1.8921937] [0.13466072]\n",
      "[-1.9043498] [0.11942887]\n",
      "[-1.9162629] [0.10479879]\n",
      "[-1.9279376] [0.03237486]\n",
      "[-1.9393789] [0.07725501]\n",
      "[-1.9505913] [0.00823402]\n",
      "[-1.9615794] [0.05185008]\n",
      "[-1.9723479] [0.03989625]\n",
      "[-1.9829009] [0.02841687]\n",
      "[-1.9932429] [0.01739168]\n",
      "[-2.003378] [0.00680304]\n",
      "[-2.0133104] [-0.00336647]\n",
      "[-2.023044] [-0.01313305]\n",
      "[-2.0325832] [-0.02251339]\n",
      "[-2.0419316] [-0.0315218]\n",
      "[-2.051093] [-0.04017305]\n",
      "[-2.0600712] [-0.04848242]\n",
      "[-2.0688698] [-0.05646229]\n",
      "[-2.0774925] [-0.06412649]\n",
      "[-2.0859427] [-0.07148743]\n",
      "[-2.094224] [-0.11996269]\n",
      "[-2.1023395] [-0.12592363]\n",
      "[-2.1102927] [-0.13163185]\n",
      "[-2.1180868] [-0.13709879]\n",
      "[-2.125725] [-0.14233303]\n",
      "[-2.1332104] [-0.14734507]\n",
      "[-2.1405463] [-0.15214539]\n",
      "[-2.1477354] [-0.15673828]\n",
      "[-2.1547806] [-0.16113567]\n",
      "[-2.161685] [-0.16534519]\n",
      "[-2.1684513] [-0.16937447]\n"
     ]
    }
   ],
   "source": [
    "minimize_operation = opt.minimize(cost)\n",
    "\n",
    "with tf.Session() as sess:\n",
    "    sess.run(tf.global_variables_initializer())\n",
    "    for _ in range(100):\n",
    "        x_val, cost_val, _ = sess.run([x, cost, minimize_operation], feed_dict={a: [1, 5, 6]})\n",
    "        print(x_val, cost_val)"
   ]
  }
 ],
 "metadata": {
  "kernelspec": {
   "display_name": "Python [conda env:carnd-term1]",
   "language": "python",
   "name": "conda-env-carnd-term1-py"
  },
  "language_info": {
   "codemirror_mode": {
    "name": "ipython",
    "version": 3
   },
   "file_extension": ".py",
   "mimetype": "text/x-python",
   "name": "python",
   "nbconvert_exporter": "python",
   "pygments_lexer": "ipython3",
   "version": "3.5.2"
  },
  "widgets": {
   "state": {},
   "version": "1.1.2"
  }
 },
 "nbformat": 4,
 "nbformat_minor": 2
}
